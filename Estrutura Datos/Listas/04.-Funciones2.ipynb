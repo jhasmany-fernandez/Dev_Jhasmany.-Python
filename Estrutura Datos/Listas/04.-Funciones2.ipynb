{
 "cells": [
  {
   "cell_type": "markdown",
   "metadata": {},
   "source": [
    "# COUNT()\n",
    "## Se utiliza para contar cuántas veces aparece un elemento específico en una lista."
   ]
  },
  {
   "cell_type": "markdown",
   "metadata": {},
   "source": [
    "## 1. Ejemplo: Contar la cantidad de veces que aparece un elemento en la lista"
   ]
  },
  {
   "cell_type": "code",
   "execution_count": 1,
   "metadata": {},
   "outputs": [
    {
     "name": "stdout",
     "output_type": "stream",
     "text": [
      "Cantidad de veces que aparece el número 3: 3\n"
     ]
    }
   ],
   "source": [
    "números = [1, 2, 3, 4, 3, 5, 3]\n",
    "\n",
    "# Contar cuántas veces aparece el número 3 en la lista\n",
    "cantidad_tres = números.count(3)\n",
    "\n",
    "print(\"Cantidad de veces que aparece el número 3:\", cantidad_tres)\n",
    "# Salida: Cantidad de veces que aparece el número 3: 3\n"
   ]
  },
  {
   "cell_type": "markdown",
   "metadata": {},
   "source": [
    "## 2. Ejemplo: Contar la cantidad de veces que aparece un elemento en una lista de cadenas"
   ]
  },
  {
   "cell_type": "code",
   "execution_count": 2,
   "metadata": {},
   "outputs": [
    {
     "name": "stdout",
     "output_type": "stream",
     "text": [
      "Cantidad de veces que aparece la palabra 'hola': 3\n"
     ]
    }
   ],
   "source": [
    "palabras = ['hola', 'mundo', 'hola', 'Python', 'hola']\n",
    "\n",
    "# Contar cuántas veces aparece la palabra 'hola' en la lista\n",
    "cantidad_hola = palabras.count('hola')\n",
    "\n",
    "print(\"Cantidad de veces que aparece la palabra 'hola':\", cantidad_hola)\n",
    "# Salida: Cantidad de veces que aparece la palabra 'hola': 3\n"
   ]
  },
  {
   "cell_type": "markdown",
   "metadata": {},
   "source": [
    "## 3. Ejemplo: Contar la cantidad de veces que aparece un elemento en una lista vacía"
   ]
  },
  {
   "cell_type": "code",
   "execution_count": 3,
   "metadata": {},
   "outputs": [
    {
     "name": "stdout",
     "output_type": "stream",
     "text": [
      "Cantidad de veces que aparece el número 5: 0\n"
     ]
    }
   ],
   "source": [
    "lista_vacía = []\n",
    "\n",
    "# Contar cuántas veces aparece el número 5 en la lista vacía\n",
    "cantidad_cinco = lista_vacía.count(5)\n",
    "\n",
    "print(\"Cantidad de veces que aparece el número 5:\", cantidad_cinco)\n",
    "# Salida: Cantidad de veces que aparece el número 5: 0\n"
   ]
  },
  {
   "cell_type": "markdown",
   "metadata": {},
   "source": [
    "## 4. Ejemplo: Contar elementos en una lista de objetos"
   ]
  },
  {
   "cell_type": "code",
   "execution_count": 8,
   "metadata": {},
   "outputs": [
    {
     "name": "stdout",
     "output_type": "stream",
     "text": [
      "Cantidad de veces que aparece una persona con nombre 'Juan': 0\n"
     ]
    }
   ],
   "source": [
    "class Persona:\n",
    "    def __init__(self, nombre):\n",
    "        self.nombre = nombre\n",
    "\n",
    "personas = [Persona('Juan'), Persona('María'), Persona('Juan'), Persona('Carlos')]\n",
    "\n",
    "# Crear una instancia de Persona con nombre 'Juan' para contar\n",
    "juan_temp = Persona('Juan')\n",
    "\n",
    "# Contar cuántas veces aparece esa instancia en la lista\n",
    "cantidad_juanes = personas.count(juan_temp)\n",
    "\n",
    "print(\"Cantidad de veces que aparece una persona con nombre 'Juan':\", cantidad_juanes)\n",
    "# Salida: Cantidad de veces que aparece una persona con nombre 'Juan': 2\n",
    "\n"
   ]
  }
 ],
 "metadata": {
  "kernelspec": {
   "display_name": "base",
   "language": "python",
   "name": "python3"
  },
  "language_info": {
   "codemirror_mode": {
    "name": "ipython",
    "version": 3
   },
   "file_extension": ".py",
   "mimetype": "text/x-python",
   "name": "python",
   "nbconvert_exporter": "python",
   "pygments_lexer": "ipython3",
   "version": "3.11.7"
  }
 },
 "nbformat": 4,
 "nbformat_minor": 2
}
