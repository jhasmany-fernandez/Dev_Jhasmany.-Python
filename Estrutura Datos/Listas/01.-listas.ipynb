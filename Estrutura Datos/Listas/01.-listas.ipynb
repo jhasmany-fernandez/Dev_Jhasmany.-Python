{
 "cells": [
  {
   "cell_type": "markdown",
   "metadata": {},
   "source": [
    "1. Acceder a elementos por índice:"
   ]
  },
  {
   "cell_type": "code",
   "execution_count": 1,
   "metadata": {},
   "outputs": [
    {
     "name": "stdout",
     "output_type": "stream",
     "text": [
      "Primer elemento: a\n",
      "Último elemento: c\n"
     ]
    }
   ],
   "source": [
    "lista = [\"a\", \"b\", \"c\"]\n",
    "\n",
    "# Acceder al primer elemento\n",
    "primer_elemento = lista[0]\n",
    "print(\"Primer elemento:\", primer_elemento)\n",
    "\n",
    "# Acceder al último elemento\n",
    "ultimo_elemento = lista[-1]\n",
    "print(\"Último elemento:\", ultimo_elemento)\n"
   ]
  }
 ],
 "metadata": {
  "kernelspec": {
   "display_name": "base",
   "language": "python",
   "name": "python3"
  },
  "language_info": {
   "codemirror_mode": {
    "name": "ipython",
    "version": 3
   },
   "file_extension": ".py",
   "mimetype": "text/x-python",
   "name": "python",
   "nbconvert_exporter": "python",
   "pygments_lexer": "ipython3",
   "version": "3.11.5"
  }
 },
 "nbformat": 4,
 "nbformat_minor": 2
}
