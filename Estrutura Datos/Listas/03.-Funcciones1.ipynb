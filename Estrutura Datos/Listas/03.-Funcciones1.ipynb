{
 "cells": [
  {
   "cell_type": "markdown",
   "metadata": {},
   "source": [
    "# El método append() se utiliza para agregar un elemento al final de una lista. Aquí tienes algunos ejemplos de cómo usarlo:"
   ]
  },
  {
   "cell_type": "markdown",
   "metadata": {},
   "source": [
    "# APPEND()\n",
    "## El método append() se utiliza para agregar un elemento al final de una lista. Aquí tienes algunos ejemplos de cómo usarlo:"
   ]
  },
  {
   "cell_type": "markdown",
   "metadata": {},
   "source": [
    "## 1. Ejemplo: Agregar un elemento a una lista vacía"
   ]
  },
  {
   "cell_type": "code",
   "execution_count": 1,
   "metadata": {},
   "outputs": [
    {
     "name": "stdout",
     "output_type": "stream",
     "text": [
      "[1]\n"
     ]
    }
   ],
   "source": [
    "mi_lista = []  # Lista vacía\n",
    "mi_lista.append(1)\n",
    "print(mi_lista)  # Salida: [1]\n"
   ]
  },
  {
   "cell_type": "markdown",
   "metadata": {},
   "source": [
    "## 2. Ejemplo: Agregar varios elementos a una lista"
   ]
  },
  {
   "cell_type": "code",
   "execution_count": 2,
   "metadata": {},
   "outputs": [
    {
     "name": "stdout",
     "output_type": "stream",
     "text": [
      "[1, 2, 3, 4, 5]\n"
     ]
    }
   ],
   "source": [
    "mi_lista = [1, 2, 3]\n",
    "mi_lista.append(4)\n",
    "mi_lista.append(5)\n",
    "print(mi_lista)  # Salida: [1, 2, 3, 4, 5]\n"
   ]
  },
  {
   "cell_type": "markdown",
   "metadata": {},
   "source": [
    "## 3. Ejemplo: Agregar una lista a otra lista"
   ]
  },
  {
   "cell_type": "code",
   "execution_count": 3,
   "metadata": {},
   "outputs": [
    {
     "name": "stdout",
     "output_type": "stream",
     "text": [
      "[1, 2, 3, [4, 5, 6]]\n"
     ]
    }
   ],
   "source": [
    "lista1 = [1, 2, 3]\n",
    "lista2 = [4, 5, 6]\n",
    "lista1.append(lista2)\n",
    "print(lista1)  # Salida: [1, 2, 3, [4, 5, 6]]\n"
   ]
  },
  {
   "cell_type": "markdown",
   "metadata": {},
   "source": [
    "## 4. Ejemplo: Agregar elementos a una lista utilizando un bucle"
   ]
  },
  {
   "cell_type": "code",
   "execution_count": 4,
   "metadata": {},
   "outputs": [
    {
     "name": "stdout",
     "output_type": "stream",
     "text": [
      "[1, 2, 3]\n"
     ]
    }
   ],
   "source": [
    "mi_lista = []\n",
    "for i in range(1, 4):\n",
    "    mi_lista.append(i)\n",
    "print(mi_lista)  # Salida: [1, 2, 3]\n"
   ]
  },
  {
   "cell_type": "markdown",
   "metadata": {},
   "source": [
    "## 5. Ejemplo: Agregar elementos a una lista usando una lista de comprensión"
   ]
  },
  {
   "cell_type": "code",
   "execution_count": 5,
   "metadata": {},
   "outputs": [
    {
     "name": "stdout",
     "output_type": "stream",
     "text": [
      "[1, 2, 3]\n"
     ]
    }
   ],
   "source": [
    "mi_lista = [x for x in range(1, 4)]\n",
    "print(mi_lista)  # Salida: [1, 2, 3]\n"
   ]
  },
  {
   "cell_type": "markdown",
   "metadata": {},
   "source": [
    "#----------------------------------------------------------------------------------------------------------------------------"
   ]
  },
  {
   "cell_type": "markdown",
   "metadata": {},
   "source": [
    "# EXTEND()\n",
    "## La función extend() en Python se utiliza para agregar elementos de un iterable (como otra lista) al final de una lista."
   ]
  },
  {
   "cell_type": "markdown",
   "metadata": {},
   "source": [
    "## 1. Ejemplo: Extender una lista con otra lista"
   ]
  },
  {
   "cell_type": "code",
   "execution_count": 6,
   "metadata": {},
   "outputs": [
    {
     "name": "stdout",
     "output_type": "stream",
     "text": [
      "[1, 2, 3, 4, 5, 6]\n"
     ]
    }
   ],
   "source": [
    "lista1 = [1, 2, 3]\n",
    "lista2 = [4, 5, 6]\n",
    "lista1.extend(lista2)\n",
    "print(lista1)  # Salida: [1, 2, 3, 4, 5, 6]\n"
   ]
  },
  {
   "cell_type": "markdown",
   "metadata": {},
   "source": [
    "## 2. Ejemplo: Extender una lista usando una cadena"
   ]
  },
  {
   "cell_type": "code",
   "execution_count": 7,
   "metadata": {},
   "outputs": [
    {
     "name": "stdout",
     "output_type": "stream",
     "text": [
      "[1, 2, 3, 'a', 'b', 'c']\n"
     ]
    }
   ],
   "source": [
    "lista = [1, 2, 3]\n",
    "cadena = \"abc\"\n",
    "lista.extend(cadena)\n",
    "print(lista)  # Salida: [1, 2, 3, 'a', 'b', 'c']\n"
   ]
  },
  {
   "cell_type": "markdown",
   "metadata": {},
   "source": [
    "## 3. Ejemplo: Extender una lista con elementos individuales"
   ]
  },
  {
   "cell_type": "code",
   "execution_count": 8,
   "metadata": {},
   "outputs": [
    {
     "name": "stdout",
     "output_type": "stream",
     "text": [
      "[1, 2, 3, 4, 5, 6]\n"
     ]
    }
   ],
   "source": [
    "lista = [1, 2, 3]\n",
    "lista.extend([4, 5, 6])\n",
    "print(lista)  # Salida: [1, 2, 3, 4, 5, 6]\n"
   ]
  },
  {
   "cell_type": "markdown",
   "metadata": {},
   "source": [
    "## 4. Ejemplo: Extender una lista usando un rango"
   ]
  },
  {
   "cell_type": "code",
   "execution_count": 9,
   "metadata": {},
   "outputs": [
    {
     "name": "stdout",
     "output_type": "stream",
     "text": [
      "[1, 2, 3, 4, 5, 6]\n"
     ]
    }
   ],
   "source": [
    "lista = [1, 2, 3]\n",
    "lista.extend(range(4, 7))\n",
    "print(lista)  # Salida: [1, 2, 3, 4, 5, 6]\n"
   ]
  },
  {
   "cell_type": "markdown",
   "metadata": {},
   "source": [
    "## 5. Ejemplo: Extender una lista con elementos de una tupla"
   ]
  },
  {
   "cell_type": "code",
   "execution_count": 10,
   "metadata": {},
   "outputs": [
    {
     "name": "stdout",
     "output_type": "stream",
     "text": [
      "[1, 2, 3, 4, 5, 6]\n"
     ]
    }
   ],
   "source": [
    "lista = [1, 2, 3]\n",
    "tupla = (4, 5, 6)\n",
    "lista.extend(tupla)\n",
    "print(lista)  # Salida: [1, 2, 3, 4, 5, 6]\n"
   ]
  },
  {
   "cell_type": "code",
   "execution_count": null,
   "metadata": {},
   "outputs": [],
   "source": [
    "#------------------------------------------------------------------------------------------------------------------------"
   ]
  },
  {
   "cell_type": "markdown",
   "metadata": {},
   "source": [
    "# INSERT()\n",
    "## Se utiliza para insertar un elemento en una lista en una posición específica."
   ]
  },
  {
   "cell_type": "markdown",
   "metadata": {},
   "source": [
    "## 1. Ejemplo: Insertar al principio de la lista"
   ]
  },
  {
   "cell_type": "code",
   "execution_count": 1,
   "metadata": {},
   "outputs": [
    {
     "name": "stdout",
     "output_type": "stream",
     "text": [
      "['plátano', 'manzana', 'pera', 'uva']\n"
     ]
    }
   ],
   "source": [
    "frutas = [\"manzana\", \"pera\", \"uva\"]\n",
    "\n",
    "# Insertar \"plátano\" al principio de la lista\n",
    "frutas.insert(0, \"plátano\")\n",
    "\n",
    "print(frutas)\n",
    "# Salida: ['plátano', 'manzana', 'pera', 'uva']\n"
   ]
  },
  {
   "cell_type": "markdown",
   "metadata": {},
   "source": [
    "## 2. Ejemplo: Insertar en una posición específica"
   ]
  },
  {
   "cell_type": "code",
   "execution_count": 2,
   "metadata": {},
   "outputs": [
    {
     "name": "stdout",
     "output_type": "stream",
     "text": [
      "[1, 2, 3, 4, 5]\n"
     ]
    }
   ],
   "source": [
    "números = [1, 2, 4, 5]\n",
    "\n",
    "# Insertar el número 3 en la posición 2\n",
    "números.insert(2, 3)\n",
    "\n",
    "print(números)\n",
    "# Salida: [1, 2, 3, 4, 5]\n"
   ]
  },
  {
   "cell_type": "markdown",
   "metadata": {},
   "source": [
    "## 3. Ejemplo: Insertar múltiples elementos"
   ]
  },
  {
   "cell_type": "code",
   "execution_count": 3,
   "metadata": {},
   "outputs": [
    {
     "name": "stdout",
     "output_type": "stream",
     "text": [
      "['a', 'b', 'c', 'd', 'f', 'e']\n"
     ]
    }
   ],
   "source": [
    "letras = ['a', 'b', 'd', 'e']\n",
    "\n",
    "# Insertar 'c' en la posición 2 y 'f' en la posición 4\n",
    "letras.insert(2, 'c')\n",
    "letras.insert(4, 'f')\n",
    "\n",
    "print(letras)\n",
    "# Salida: ['a', 'b', 'c', 'd', 'f', 'e']\n"
   ]
  },
  {
   "cell_type": "markdown",
   "metadata": {},
   "source": [
    "## 4. Ejemplo: Insertar en una posición negativa (contando desde el final)"
   ]
  },
  {
   "cell_type": "code",
   "execution_count": 4,
   "metadata": {},
   "outputs": [
    {
     "name": "stdout",
     "output_type": "stream",
     "text": [
      "['rojo', 'verde', 'amarillo', 'azul']\n"
     ]
    }
   ],
   "source": [
    "colores = ['rojo', 'verde', 'azul']\n",
    "\n",
    "# Insertar 'amarillo' en la posición -1 (última posición)\n",
    "colores.insert(-1, 'amarillo')\n",
    "\n",
    "print(colores)\n",
    "# Salida: ['rojo', 'verde', 'amarillo', 'azul']\n"
   ]
  },
  {
   "cell_type": "markdown",
   "metadata": {},
   "source": [
    "# REMOVE()\n",
    "## se utiliza para eliminar la primera ocurrencia de un elemento específico de una lista."
   ]
  },
  {
   "cell_type": "markdown",
   "metadata": {},
   "source": [
    "## 1. Ejemplo: Eliminar un elemento específico de la lista"
   ]
  },
  {
   "cell_type": "code",
   "execution_count": 5,
   "metadata": {},
   "outputs": [
    {
     "name": "stdout",
     "output_type": "stream",
     "text": [
      "[1, 2, 4, 3, 5]\n"
     ]
    }
   ],
   "source": [
    "números = [1, 2, 3, 4, 3, 5]\n",
    "\n",
    "# Eliminar el número 3 de la lista\n",
    "números.remove(3)\n",
    "\n",
    "print(números)\n",
    "# Salida: [1, 2, 4, 3, 5] (solo se elimina la primera ocurrencia del número 3)\n"
   ]
  },
  {
   "cell_type": "markdown",
   "metadata": {},
   "source": [
    "## 2. Ejemplo: Eliminar un elemento que no está en la lista (genera un ValueError)"
   ]
  },
  {
   "cell_type": "code",
   "execution_count": 6,
   "metadata": {},
   "outputs": [
    {
     "name": "stdout",
     "output_type": "stream",
     "text": [
      "Error: list.remove(x): x not in list\n"
     ]
    }
   ],
   "source": [
    "colores = ['rojo', 'verde', 'azul']\n",
    "\n",
    "# Intentar eliminar 'amarillo', que no está en la lista\n",
    "try:\n",
    "    colores.remove('amarillo')\n",
    "except ValueError as e:\n",
    "    print(f\"Error: {e}\")\n",
    "# Salida: Error: list.remove(x): x not in list\n"
   ]
  },
  {
   "cell_type": "markdown",
   "metadata": {},
   "source": [
    "## 3. Ejemplo: Eliminar el último elemento de la lista"
   ]
  },
  {
   "cell_type": "code",
   "execution_count": 7,
   "metadata": {},
   "outputs": [
    {
     "name": "stdout",
     "output_type": "stream",
     "text": [
      "['manzana', 'pera']\n"
     ]
    }
   ],
   "source": [
    "frutas = ['manzana', 'pera', 'uva']\n",
    "\n",
    "# Eliminar la última fruta de la lista\n",
    "frutas.remove(frutas[-1])\n",
    "\n",
    "print(frutas)\n",
    "# Salida: ['manzana', 'pera'] (se elimina 'uva')\n"
   ]
  },
  {
   "cell_type": "markdown",
   "metadata": {},
   "source": [
    "## 4. Ejemplo: Utilizar remove() en una lista de cadenas"
   ]
  },
  {
   "cell_type": "code",
   "execution_count": 8,
   "metadata": {},
   "outputs": [
    {
     "name": "stdout",
     "output_type": "stream",
     "text": [
      "['Juan', 'Ana', 'Carlos']\n"
     ]
    }
   ],
   "source": [
    "nombres = ['Ana', 'Juan', 'Ana', 'Carlos']\n",
    "\n",
    "# Eliminar la primera ocurrencia de 'Ana' en la lista de nombres\n",
    "nombres.remove('Ana')\n",
    "\n",
    "print(nombres)\n",
    "# Salida: ['Juan', 'Ana', 'Carlos'] (solo se elimina la primera ocurrencia de 'Ana')\n"
   ]
  },
  {
   "cell_type": "markdown",
   "metadata": {},
   "source": [
    "# POP()\n",
    "## se utiliza para eliminar y devolver el elemento en una posición específica de una lista. "
   ]
  },
  {
   "cell_type": "markdown",
   "metadata": {},
   "source": [
    "## 1. Ejemplo: Eliminar y obtener el último elemento de la lista"
   ]
  },
  {
   "cell_type": "code",
   "execution_count": 9,
   "metadata": {},
   "outputs": [
    {
     "name": "stdout",
     "output_type": "stream",
     "text": [
      "Último número eliminado: 5\n",
      "Lista después de pop: [1, 2, 3, 4]\n"
     ]
    }
   ],
   "source": [
    "números = [1, 2, 3, 4, 5]\n",
    "\n",
    "# Eliminar y obtener el último número de la lista\n",
    "último_número = números.pop()\n",
    "\n",
    "print(\"Último número eliminado:\", último_número)\n",
    "print(\"Lista después de pop:\", números)\n",
    "# Salida:\n",
    "# Último número eliminado: 5\n",
    "# Lista después de pop: [1, 2, 3, 4]\n"
   ]
  },
  {
   "cell_type": "markdown",
   "metadata": {},
   "source": [
    "## 2. Ejemplo: Eliminar y obtener el elemento en una posición específica"
   ]
  },
  {
   "cell_type": "code",
   "execution_count": 10,
   "metadata": {},
   "outputs": [
    {
     "name": "stdout",
     "output_type": "stream",
     "text": [
      "Color eliminado: verde\n",
      "Lista después de pop: ['rojo', 'azul']\n"
     ]
    }
   ],
   "source": [
    "colores = ['rojo', 'verde', 'azul']\n",
    "\n",
    "# Eliminar y obtener el color en la posición 1 (índice 1)\n",
    "color_eliminado = colores.pop(1)\n",
    "\n",
    "print(\"Color eliminado:\", color_eliminado)\n",
    "print(\"Lista después de pop:\", colores)\n",
    "# Salida:\n",
    "# Color eliminado: verde\n",
    "# Lista después de pop: ['rojo', 'azul']\n"
   ]
  },
  {
   "cell_type": "markdown",
   "metadata": {},
   "source": [
    "## 3. Ejemplo 3: Utilizar pop() con índices negativos"
   ]
  },
  {
   "cell_type": "code",
   "execution_count": 11,
   "metadata": {},
   "outputs": [
    {
     "name": "stdout",
     "output_type": "stream",
     "text": [
      "Letra eliminada: d\n",
      "Lista después de pop: ['a', 'b', 'c', 'e']\n"
     ]
    }
   ],
   "source": [
    "letras = ['a', 'b', 'c', 'd', 'e']\n",
    "\n",
    "# Eliminar y obtener la letra en la posición -2 (segunda posición desde el final)\n",
    "letra_eliminada = letras.pop(-2)\n",
    "\n",
    "print(\"Letra eliminada:\", letra_eliminada)\n",
    "print(\"Lista después de pop:\", letras)\n",
    "# Salida:\n",
    "# Letra eliminada: d\n",
    "# Lista después de pop: ['a', 'b', 'c', 'e']\n"
   ]
  },
  {
   "cell_type": "markdown",
   "metadata": {},
   "source": [
    "## 4. Ejemplo 4: Manejar un índice fuera de rango"
   ]
  },
  {
   "cell_type": "code",
   "execution_count": 12,
   "metadata": {},
   "outputs": [
    {
     "name": "stdout",
     "output_type": "stream",
     "text": [
      "Error: pop index out of range\n"
     ]
    }
   ],
   "source": [
    "frutas = ['manzana', 'pera', 'uva']\n",
    "\n",
    "# Intentar eliminar y obtener la fruta en la posición 5 (índice fuera de rango)\n",
    "try:\n",
    "    fruta_eliminada = frutas.pop(5)\n",
    "except IndexError as e:\n",
    "    print(f\"Error: {e}\")\n",
    "# Salida: Error: pop index out of range\n"
   ]
  },
  {
   "cell_type": "code",
   "execution_count": null,
   "metadata": {},
   "outputs": [],
   "source": []
  }
 ],
 "metadata": {
  "kernelspec": {
   "display_name": "base",
   "language": "python",
   "name": "python3"
  },
  "language_info": {
   "codemirror_mode": {
    "name": "ipython",
    "version": 3
   },
   "file_extension": ".py",
   "mimetype": "text/x-python",
   "name": "python",
   "nbconvert_exporter": "python",
   "pygments_lexer": "ipython3",
   "version": "3.11.5"
  }
 },
 "nbformat": 4,
 "nbformat_minor": 2
}
