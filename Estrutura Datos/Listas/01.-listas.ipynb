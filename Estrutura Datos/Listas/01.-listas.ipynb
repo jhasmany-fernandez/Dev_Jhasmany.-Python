{
 "cells": [
  {
   "cell_type": "markdown",
   "metadata": {},
   "source": [
    "## 1. Acceder a elementos por índice:"
   ]
  },
  {
   "cell_type": "code",
   "execution_count": 1,
   "metadata": {},
   "outputs": [
    {
     "name": "stdout",
     "output_type": "stream",
     "text": [
      "Primer elemento: a\n",
      "Último elemento: c\n"
     ]
    }
   ],
   "source": [
    "lista = [\"a\", \"b\", \"c\"]\n",
    "\n",
    "# Acceder al primer elemento\n",
    "primer_elemento = lista[0]\n",
    "print(\"Primer elemento:\", primer_elemento)\n",
    "\n",
    "# Acceder al último elemento\n",
    "ultimo_elemento = lista[-1]\n",
    "print(\"Último elemento:\", ultimo_elemento)\n"
   ]
  },
  {
   "cell_type": "markdown",
   "metadata": {},
   "source": [
    "## 2.  Modificar elementos:"
   ]
  },
  {
   "cell_type": "code",
   "execution_count": 2,
   "metadata": {},
   "outputs": [
    {
     "name": "stdout",
     "output_type": "stream",
     "text": [
      "Lista después de modificar: ['a', 'nuevo_valor', 'c']\n"
     ]
    }
   ],
   "source": [
    "lista = [\"a\", \"b\", \"c\"]\n",
    "\n",
    "# Modificar el segundo elemento\n",
    "lista[1] = \"nuevo_valor\"\n",
    "print(\"Lista después de modificar:\", lista)\n"
   ]
  },
  {
   "cell_type": "markdown",
   "metadata": {},
   "source": [
    "## 3. Agregar elementos:"
   ]
  },
  {
   "cell_type": "code",
   "execution_count": 3,
   "metadata": {},
   "outputs": [
    {
     "name": "stdout",
     "output_type": "stream",
     "text": [
      "Lista después de agregar un nuevo elemento: ['a', 'b', 'c', 'd']\n",
      "Lista después de insertar un nuevo elemento: ['a', 'nuevo_elemento', 'b', 'c', 'd']\n"
     ]
    }
   ],
   "source": [
    "lista = [\"a\", \"b\", \"c\"]\n",
    "\n",
    "# Agregar un nuevo elemento al final\n",
    "lista.append(\"d\")\n",
    "print(\"Lista después de agregar un nuevo elemento:\", lista)\n",
    "\n",
    "# Insertar un elemento en una posición específica\n",
    "lista.insert(1, \"nuevo_elemento\")\n",
    "print(\"Lista después de insertar un nuevo elemento:\", lista)\n"
   ]
  },
  {
   "cell_type": "markdown",
   "metadata": {},
   "source": [
    "## 4. Eliminar elementos:"
   ]
  },
  {
   "cell_type": "code",
   "execution_count": 4,
   "metadata": {},
   "outputs": [
    {
     "name": "stdout",
     "output_type": "stream",
     "text": [
      "Lista después de eliminar el segundo elemento: ['a', 'c']\n",
      "Lista después de eliminar el primer elemento 'a': ['c']\n"
     ]
    }
   ],
   "source": [
    "lista = [\"a\", \"b\", \"c\"]\n",
    "\n",
    "# Eliminar el segundo elemento\n",
    "del lista[1]\n",
    "print(\"Lista después de eliminar el segundo elemento:\", lista)\n",
    "\n",
    "# Eliminar el primer elemento que coincide con un valor\n",
    "lista.remove(\"a\")\n",
    "print(\"Lista después de eliminar el primer elemento 'a':\", lista)\n"
   ]
  },
  {
   "cell_type": "markdown",
   "metadata": {},
   "source": [
    "## 5. Longitud de la lista:"
   ]
  },
  {
   "cell_type": "code",
   "execution_count": 5,
   "metadata": {},
   "outputs": [
    {
     "name": "stdout",
     "output_type": "stream",
     "text": [
      "Longitud de la lista: 3\n"
     ]
    }
   ],
   "source": [
    "lista = [\"a\", \"b\", \"c\"]\n",
    "\n",
    "# Obtener la longitud de la lista\n",
    "longitud = len(lista)\n",
    "print(\"Longitud de la lista:\", longitud)\n"
   ]
  }
 ],
 "metadata": {
  "kernelspec": {
   "display_name": "base",
   "language": "python",
   "name": "python3"
  },
  "language_info": {
   "codemirror_mode": {
    "name": "ipython",
    "version": 3
   },
   "file_extension": ".py",
   "mimetype": "text/x-python",
   "name": "python",
   "nbconvert_exporter": "python",
   "pygments_lexer": "ipython3",
   "version": "3.11.5"
  }
 },
 "nbformat": 4,
 "nbformat_minor": 2
}
