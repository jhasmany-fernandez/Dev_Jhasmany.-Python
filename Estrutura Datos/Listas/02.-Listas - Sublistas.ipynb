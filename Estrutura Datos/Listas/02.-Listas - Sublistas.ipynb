{
 "cells": [
  {
   "cell_type": "markdown",
   "metadata": {},
   "source": [
    "# Las listas en Python son muy versátiles y puedes anidar listas dentro de otras, creando así sublistas. Aquí tienes algunos ejemplos:"
   ]
  },
  {
   "cell_type": "markdown",
   "metadata": {},
   "source": [
    "## 1. Ejemplo: Lista de Listas (Matriz)"
   ]
  },
  {
   "cell_type": "code",
   "execution_count": 1,
   "metadata": {},
   "outputs": [
    {
     "name": "stdout",
     "output_type": "stream",
     "text": [
      "1\n",
      "6\n"
     ]
    }
   ],
   "source": [
    "# Matriz 3x3 (lista de listas)\n",
    "matriz = [\n",
    "    [1, 2, 3],\n",
    "    [4, 5, 6],\n",
    "    [7, 8, 9]\n",
    "]\n",
    "\n",
    "# Acceder a elementos\n",
    "print(matriz[0][0])  # Imprime: 1\n",
    "print(matriz[1][2])  # Imprime: 6\n"
   ]
  },
  {
   "cell_type": "markdown",
   "metadata": {},
   "source": [
    "## 2. Ejemplo: Lista de Listas (Anidada)"
   ]
  },
  {
   "cell_type": "code",
   "execution_count": null,
   "metadata": {},
   "outputs": [],
   "source": [
    "# Lista de listas (anidada)\n",
    "lista_anidada = [\n",
    "    [10, 20, 30],\n",
    "    [40, 50, 60],\n",
    "    [70, 80, 90]\n",
    "]\n",
    "\n",
    "# Acceder a elementos\n",
    "print(lista_anidada[1][0])  # Imprime: 40\n",
    "print(lista_anidada[2][2])  # Imprime: 90\n"
   ]
  },
  {
   "cell_type": "markdown",
   "metadata": {},
   "source": [
    "## 3. Ejemplo: Manipulación de sublistas"
   ]
  },
  {
   "cell_type": "code",
   "execution_count": null,
   "metadata": {},
   "outputs": [],
   "source": [
    "# Lista principal\n",
    "mi_lista = [1, 2, [3, 4, 5], 6, [7, 8, 9]]\n",
    "\n",
    "# Acceder a elementos de sublistas\n",
    "print(mi_lista[2])       # Imprime: [3, 4, 5]\n",
    "print(mi_lista[2][1])    # Imprime: 4\n",
    "print(mi_lista[4][2])    # Imprime: 9\n",
    "\n",
    "# Modificar elementos de sublistas\n",
    "mi_lista[2][0] = 100\n",
    "print(mi_lista)          # Imprime: [1, 2, [100, 4, 5], 6, [7, 8, 9]]\n"
   ]
  },
  {
   "cell_type": "markdown",
   "metadata": {},
   "source": [
    "## 4. Ejemplo: Crear sublistas dinámicamente"
   ]
  },
  {
   "cell_type": "code",
   "execution_count": null,
   "metadata": {},
   "outputs": [],
   "source": [
    "# Crear una lista vacía\n",
    "mi_lista = []\n",
    "\n",
    "# Agregar sublistas dinámicamente\n",
    "mi_lista.append([1, 2, 3])\n",
    "mi_lista.append([4, 5, 6])\n",
    "mi_lista.append([7, 8, 9])\n",
    "\n",
    "# Acceder a elementos\n",
    "print(mi_lista[1])       # Imprime: [4, 5, 6]\n",
    "print(mi_lista[2][0])    # Imprime: 7\n"
   ]
  }
 ],
 "metadata": {
  "kernelspec": {
   "display_name": "base",
   "language": "python",
   "name": "python3"
  },
  "language_info": {
   "codemirror_mode": {
    "name": "ipython",
    "version": 3
   },
   "file_extension": ".py",
   "mimetype": "text/x-python",
   "name": "python",
   "nbconvert_exporter": "python",
   "pygments_lexer": "ipython3",
   "version": "3.11.5"
  }
 },
 "nbformat": 4,
 "nbformat_minor": 2
}
