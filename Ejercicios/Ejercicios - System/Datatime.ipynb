{
 "cells": [
  {
   "cell_type": "markdown",
   "metadata": {},
   "source": [
    "## Las Importaciones"
   ]
  },
  {
   "cell_type": "code",
   "execution_count": 10,
   "metadata": {},
   "outputs": [],
   "source": [
    "from datetime import datetime "
   ]
  },
  {
   "cell_type": "markdown",
   "metadata": {},
   "source": [
    "## Capturar la hora del sistema"
   ]
  },
  {
   "cell_type": "code",
   "execution_count": 11,
   "metadata": {},
   "outputs": [
    {
     "name": "stdout",
     "output_type": "stream",
     "text": [
      "Hora actual del sistema: 09:19:38\n"
     ]
    }
   ],
   "source": [
    "\n",
    "\n",
    "hora_actual = datetime.now().strftime(\"%H:%M:%S\")\n",
    "print(\"Hora actual del sistema:\",hora_actual)"
   ]
  },
  {
   "cell_type": "markdown",
   "metadata": {},
   "source": [
    "## Captura la fecha del Sistema"
   ]
  },
  {
   "cell_type": "code",
   "execution_count": 12,
   "metadata": {},
   "outputs": [
    {
     "name": "stdout",
     "output_type": "stream",
     "text": [
      "Fecha actual del sistema: 2024-03-05\n"
     ]
    }
   ],
   "source": [
    "fecha_actual = datetime.now().date()\n",
    "print(\"Fecha actual del sistema:\",fecha_actual)"
   ]
  },
  {
   "cell_type": "markdown",
   "metadata": {},
   "source": [
    "## Captura la fecha y hora del sistema\n"
   ]
  },
  {
   "cell_type": "code",
   "execution_count": 15,
   "metadata": {},
   "outputs": [
    {
     "name": "stdout",
     "output_type": "stream",
     "text": [
      "fecha y hora actual: 05/03/2024 09:20:37\n"
     ]
    }
   ],
   "source": [
    "fecha_hora_actual = datetime.now().strftime(\"%d/%m/%Y %H:%M:%S\")\n",
    "print(\"fecha y hora actual:\",fecha_hora_actual)"
   ]
  }
 ],
 "metadata": {
  "kernelspec": {
   "display_name": "Python 3",
   "language": "python",
   "name": "python3"
  },
  "language_info": {
   "codemirror_mode": {
    "name": "ipython",
    "version": 3
   },
   "file_extension": ".py",
   "mimetype": "text/x-python",
   "name": "python",
   "nbconvert_exporter": "python",
   "pygments_lexer": "ipython3",
   "version": "3.12.2"
  }
 },
 "nbformat": 4,
 "nbformat_minor": 2
}
